{
 "cells": [
  {
   "cell_type": "markdown",
   "metadata": {
    "application/vnd.databricks.v1+cell": {
     "cellMetadata": {},
     "inputWidgets": {},
     "nuid": "38176a04-5e13-4f63-b2fa-1ec8e3918e30",
     "showTitle": false,
     "tableResultSettingsMap": {},
     "title": ""
    }
   },
   "source": [
    "# 📥 01 - Ingest BTC Price Data from CoinGecko\n",
    "\n",
    "This notebook retrieves **historical hourly Bitcoin (BTC)** data for the last 90 days from the **CoinGecko API**.\n",
    "\n",
    "We collect and combine the following metrics into a single DataFrame:\n",
    "\n",
    "- `price` — USD price of BTC\n",
    "- `market_cap` — Market capitalization\n",
    "- `volume` — Total trading volume\n",
    "\n",
    "These are then cleaned and indexed by timestamp for downstream time-series modeling.\n",
    "\n",
    "> ℹ️ Note: CoinGecko provides hourly resolution for free users only when requesting up to 90 days of data. This notebook does not require an API key."
   ]
  },
  {
   "cell_type": "code",
   "execution_count": 0,
   "metadata": {
    "application/vnd.databricks.v1+cell": {
     "cellMetadata": {
      "byteLimit": 2048000,
      "rowLimit": 10000
     },
     "inputWidgets": {},
     "nuid": "d56b318c-2a11-49fb-8b14-a2b596ecb1a3",
     "showTitle": false,
     "tableResultSettingsMap": {},
     "title": ""
    }
   },
   "outputs": [
    {
     "output_type": "stream",
     "name": "stdout",
     "output_type": "stream",
     "text": [
      "                                price    market_cap        volume\ntimestamp                                                        \n2025-02-05 10:03:50.353  97450.196133  1.929595e+12  6.534012e+10\n2025-02-05 11:03:52.815  97759.883175  1.939221e+12  6.366141e+10\n2025-02-05 12:01:03.860  98193.323038  1.947088e+12  6.252212e+10\n2025-02-05 13:02:35.879  98045.781830  1.943194e+12  6.356655e+10\n2025-02-05 14:04:13.296  98611.466741  1.954285e+12  6.033290e+10\n"
     ]
    }
   ],
   "source": [
    "import requests\n",
    "import pandas as pd\n",
    "from datetime import datetime\n",
    "\n",
    "url = f\"https://api.coingecko.com/api/v3/coins/bitcoin/market_chart?vs_currency=usd&days=90\"\n",
    "response = requests.get(url)\n",
    "data = response.json()\n",
    "\n",
    "# Convert 'prices', 'market_caps', 'total_volumes' into DataFrames\n",
    "df_prices = pd.DataFrame(data['prices'], columns=['timestamp', 'price'])\n",
    "df_market_cap = pd.DataFrame(data['market_caps'], columns=['timestamp', 'market_cap'])\n",
    "df_volume = pd.DataFrame(data['total_volumes'], columns=['timestamp', 'volume'])\n",
    "\n",
    "# Merge all into a single DataFrame on timestamp\n",
    "df = df_prices.merge(df_market_cap, on='timestamp').merge(df_volume, on='timestamp')\n",
    "\n",
    "# Convert timestamp to datetime\n",
    "df['timestamp'] = pd.to_datetime(df['timestamp'], unit='ms')\n",
    "\n",
    "# Set timestamp as index (good for time series)\n",
    "df.set_index('timestamp', inplace=True)\n",
    "\n",
    "# Display result\n",
    "print(df.head())"
   ]
  }
 ],
 "metadata": {
  "application/vnd.databricks.v1+notebook": {
   "computePreferences": null,
   "dashboards": [],
   "environmentMetadata": {
    "base_environment": "",
    "environment_version": "2"
   },
   "inputWidgetPreferences": null,
   "language": "python",
   "notebookMetadata": {
    "pythonIndentUnit": 4
   },
   "notebookName": "01_ingest_data_coingecko.ipynb",
   "widgets": {}
  },
  "language_info": {
   "name": "python"
  }
 },
 "nbformat": 4,
 "nbformat_minor": 0
}
