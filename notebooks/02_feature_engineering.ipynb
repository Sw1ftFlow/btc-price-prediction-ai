{
 "cells": [
  {
   "cell_type": "markdown",
   "metadata": {
    "application/vnd.databricks.v1+cell": {
     "cellMetadata": {},
     "inputWidgets": {},
     "nuid": "a6c8aae1-635a-4ded-aad1-ae76ae3f8c5d",
     "showTitle": false,
     "tableResultSettingsMap": {},
     "title": ""
    }
   },
   "source": [
    "### 🧠 Feature Engineering Overview\n",
    "\n",
    "**Purpose**: The following features are engineered to enhance the model's ability to learn short-term dynamics, long-term trends, market momentum, and behavioral signals from Bitcoin price data. Each category contributes to improving directional prediction accuracy, which is especially important in financial forecasting.\n",
    "\n",
    "---\n",
    "\n",
    "#### ⏰ Time Features\n",
    "- `hour`, `day`, `day_of_week`: Capture diurnal and weekly patterns, helping the model learn periodic behaviors such as increased volatility during certain hours or days.\n",
    "\n",
    "---\n",
    "\n",
    "#### 💹 Price Returns\n",
    "- `price_return_1h`, `price_return_24h`: Measure percentage price change over hourly and daily intervals to highlight momentum shifts and market sentiment.\n",
    "\n",
    "---\n",
    "\n",
    "#### 📉 Moving Averages\n",
    "- `ma_6h`, `ma_24h`, `ma_72h`: Smooth out price noise to reveal short-, medium-, and long-term trends. Often used to identify trend direction and potential support/resistance levels.\n",
    "\n",
    "---\n",
    "\n",
    "#### ⏪ Lag Features\n",
    "- `price_lag_1h`, `price_lag_24h`: Provide access to recent historical price levels, essential for time series modeling and understanding sequential dependencies.\n",
    "\n",
    "---\n",
    "\n",
    "#### 📊 Volatility\n",
    "- `volatility_6h`, `volatility_24h`: Capture price dispersion over time, signaling market uncertainty or risk. High volatility may indicate upcoming trend reversals or strong momentum.\n",
    "\n",
    "---\n",
    "\n",
    "#### ⚡ Momentum Indicators\n",
    "- `momentum_1h`, `momentum_6h`, `momentum_24h`, `momentum_72h`: Quantify the speed and magnitude of price changes to help detect emerging trends or reversals.\n",
    "\n",
    "---\n",
    "\n",
    "#### 📦 Volume-Based Features\n",
    "- `volume_lag_1h`, `volume_lag_24h`: Reflect recent volume activity.\n",
    "- `volume_ma_6h`, `volume_ma_24h`: Identify trends in trading activity.\n",
    "- `volume_return_1h`: Measure percentage change in volume, helpful for detecting surges or drops in interest.\n",
    "\n",
    "---\n",
    "\n",
    "#### 📈 Relative Strength Index (RSI)\n",
    "- `rsi_14`: Momentum oscillator that compares recent gains and losses over a 14-period window to identify overbought or oversold conditions.\n",
    "\n",
    "---\n",
    "\n",
    "#### 🔄 Rolling Trend Indicator\n",
    "- `trend_up_count_6h`: Tracks the number of upward price movements over the past 6 hours, offering a simple but effective measure of short-term trend consistency.\n",
    "\n",
    "---\n",
    "\n",
    "#### 📉 MACD (Moving Average Convergence Divergence)\n",
    "- `ema12`, `ema26`, `macd`: Detects trend direction and momentum by comparing short-term and long-term exponential moving averages. Useful for anticipating trend shifts and convergence/divergence patterns.\n",
    "\n",
    "---\n",
    "\n",
    "#### 🧹 Data Cleaning\n",
    "- Missing or incomplete records (`NaNs`) are dropped to ensure integrity and consistency throughout the dataset, preventing issues in model training or evaluation.\n",
    "\n",
    "---\n",
    "\n",
    "These engineered features collectively improve the model’s capability to capture temporal structure, momentum dynamics, and market sentiment — all critical for accurate and directionally consistent Bitcoin price forecasting.\n",
    "\n"
   ]
  },
  {
   "cell_type": "code",
   "execution_count": 0,
   "metadata": {
    "application/vnd.databricks.v1+cell": {
     "cellMetadata": {
      "byteLimit": 2048000,
      "rowLimit": 10000
     },
     "inputWidgets": {},
     "nuid": "3cdceacf-c159-4115-bf7b-ca6c4543823b",
     "showTitle": false,
     "tableResultSettingsMap": {},
     "title": ""
    }
   },
   "outputs": [],
   "source": [
    "import numpy as np\n",
    "from pyspark.sql import functions as F\n",
    "from pyspark.sql.window import Window\n",
    "from pyspark.sql.types import ArrayType, DoubleType\n",
    "import numpy as np\n",
    "from pyspark.sql.window import Window\n",
    "from pyspark.sql.functions import collect_list, size, expr"
   ]
  },
  {
   "cell_type": "code",
   "execution_count": 0,
   "metadata": {
    "application/vnd.databricks.v1+cell": {
     "cellMetadata": {
      "byteLimit": 2048000,
      "rowLimit": 10000
     },
     "inputWidgets": {},
     "nuid": "c4da4f14-a180-4c31-aa3f-7a289b695ca3",
     "showTitle": false,
     "tableResultSettingsMap": {},
     "title": ""
    }
   },
   "outputs": [
    {
     "output_type": "stream",
     "name": "stdout",
     "output_type": "stream",
     "text": [
      "+--------------------+-----------------+--------------------+--------------------+----------+\n|           timestamp|            price|          market_cap|              volume|  hour_key|\n+--------------------+-----------------+--------------------+--------------------+----------+\n|2025-04-08 09:05:...|79411.29383844102|1.576133830964966...|7.942999980693149E10|2025040809|\n|2025-04-08 10:04:...|79446.76021326096|1.576845423451024...|7.501415642523972E10|2025040810|\n|2025-04-08 11:07:...|79090.38478456163|1.569534776726553...|7.184955018901585E10|2025040811|\n|2025-04-08 12:05:...|78932.56330430893|1.567005815002176E12| 7.06165115924608E10|2025040812|\n|2025-04-08 13:03:...|78970.69563692114|1.568271491229540...|6.855373497740481E10|2025040813|\n|2025-04-08 14:09:...|79860.58407289122|1.586005815663762...|6.538772873357519...|2025040814|\n|2025-04-08 15:05:...|79830.81203946835|1.584360309939240...|6.592033073258972E10|2025040815|\n|2025-04-08 16:04:...|79839.36409691784|1.585428515676060...|6.405319908220768E10|2025040816|\n|2025-04-08 17:04:...|78772.54353637139|1.563564389843603...|5.314344763667016E10|2025040817|\n|2025-04-08 18:09:...|78407.02418753588|1.556705357202532...|4.434533758346566E10|2025040818|\n|2025-04-08 19:07:...|77348.32262284741|1.535133323614662...|4.610329370895907...|2025040819|\n|2025-04-08 20:09:...|77268.01412263024|1.533450028861331...|4.776189669104623E10|2025040820|\n|2025-04-08 21:09:...|77152.06625886497|1.533592784800452...|4.744075974897461E10|2025040821|\n|2025-04-08 22:04:...|76748.49569818853|1.520159789837829...|4.836826032613914...|2025040822|\n|2025-04-08 23:04:...|76989.32782724098|1.528126984781350...|4.772887332598962...|2025040823|\n|2025-04-09 00:01:...|77011.48228778424|1.528520889813951E12|4.797864692328383E10|2025040900|\n|2025-04-09 01:01:...| 76617.7575009251|1.520642979656125E12|4.838458132519585...|2025040901|\n|2025-04-09 02:05:...|76300.77843824399|1.514381125881681...|4.762691767872891E10|2025040902|\n|2025-04-09 03:01:...|76436.39359258307|1.517988404405670...|4.843368928916818E10|2025040903|\n|2025-04-09 04:04:...|76006.86998159163|1.507319818413658...|4.960480778548163...|2025040904|\n+--------------------+-----------------+--------------------+--------------------+----------+\nonly showing top 20 rows\n"
     ]
    }
   ],
   "source": [
    "# Get data from delta table\n",
    "df= spark.read.table(\"bitcoin_prices.btc_data\")\n",
    "\n",
    "# Show the Spark DataFrame\n",
    "df.show()"
   ]
  },
  {
   "cell_type": "code",
   "execution_count": 0,
   "metadata": {
    "application/vnd.databricks.v1+cell": {
     "cellMetadata": {
      "byteLimit": 2048000,
      "rowLimit": 10000
     },
     "inputWidgets": {},
     "nuid": "8822ef54-4b44-4e72-b8ec-e456e4989e6f",
     "showTitle": false,
     "tableResultSettingsMap": {},
     "title": ""
    }
   },
   "outputs": [],
   "source": [
    "# EMA calculation helper\n",
    "def ema(values, span):\n",
    "    alpha = 2 / (span + 1)\n",
    "    ema_values = []\n",
    "    ema_prev = values[0]\n",
    "    ema_values.append(ema_prev)\n",
    "    \n",
    "    for price in values[1:]:\n",
    "        ema_now = alpha * price + (1 - alpha) * ema_prev\n",
    "        ema_values.append(ema_now)\n",
    "        ema_prev = ema_now\n",
    "        \n",
    "    return ema_values\n",
    "\n",
    "# UDFs\n",
    "from pyspark.sql.functions import udf\n",
    "\n",
    "ema12_udf = udf(lambda x: ema(x, 12), ArrayType(DoubleType()))\n",
    "ema26_udf = udf(lambda x: ema(x, 26), ArrayType(DoubleType()))"
   ]
  },
  {
   "cell_type": "code",
   "execution_count": 0,
   "metadata": {
    "application/vnd.databricks.v1+cell": {
     "cellMetadata": {
      "byteLimit": 2048000,
      "rowLimit": 10000
     },
     "inputWidgets": {},
     "nuid": "bb426748-696a-45d6-8bfc-4c30b1be41d0",
     "showTitle": false,
     "tableResultSettingsMap": {},
     "title": ""
    }
   },
   "outputs": [
    {
     "output_type": "stream",
     "name": "stderr",
     "output_type": "stream",
     "text": [
      "/databricks/python/lib/python3.11/site-packages/pyspark/sql/connect/expressions.py:1017: UserWarning: WARN WindowExpression: No Partition Defined for Window operation! Moving all data to a single partition, this can cause serious performance degradation.\n  warnings.warn(\n"
     ]
    }
   ],
   "source": [
    "# Collect Price History\n",
    "w_price = Window.orderBy(\"timestamp\").rowsBetween(-100, 0)\n",
    "df = df.withColumn(\"price_history\", collect_list(\"price\").over(w_price))\n",
    "\n",
    "# Apply EMA UDFs\n",
    "df = df.withColumn(\"ema12_series\", ema12_udf(\"price_history\"))\n",
    "df = df.withColumn(\"ema26_series\", ema26_udf(\"price_history\"))\n",
    "\n",
    "df = df.withColumn(\"ema12\", expr(\"ema12_series[size(ema12_series)-1]\"))\n",
    "df = df.withColumn(\"ema26\", expr(\"ema26_series[size(ema26_series)-1]\"))\n",
    "\n",
    "# Calculate MACD\n",
    "df = df.withColumn(\"macd\", df[\"ema12\"] - df[\"ema26\"])\n",
    "\n",
    "# Clean up temporary columns\n",
    "df = df.drop(\"price_history\", \"ema12_series\", \"ema26_series\")"
   ]
  },
  {
   "cell_type": "code",
   "execution_count": 0,
   "metadata": {
    "application/vnd.databricks.v1+cell": {
     "cellMetadata": {
      "byteLimit": 2048000,
      "rowLimit": 10000
     },
     "inputWidgets": {},
     "nuid": "53184889-a4d3-4d42-8442-fec50da0c344",
     "showTitle": false,
     "tableResultSettingsMap": {},
     "title": ""
    }
   },
   "outputs": [
    {
     "output_type": "stream",
     "name": "stderr",
     "output_type": "stream",
     "text": [
      "/databricks/python/lib/python3.11/site-packages/pyspark/sql/connect/expressions.py:1017: UserWarning: WARN WindowExpression: No Partition Defined for Window operation! Moving all data to a single partition, this can cause serious performance degradation.\n  warnings.warn(\n"
     ]
    },
    {
     "output_type": "stream",
     "name": "stdout",
     "output_type": "stream",
     "text": [
      "+--------------------+-----------------+--------------------+--------------------+----------+-----------------+-----------------+-------------------+----+---+-----------+--------------------+--------------------+-----------------+-----------------+-----------------+-----------------+-----------------+------------------+------------------+-------------------+-------------------+-------------------+-------------------+--------------------+--------------------+--------------------+--------------------+--------------------+------------------+--------------+-----------------+\n|           timestamp|            price|          market_cap|              volume|  hour_key|            ema12|            ema26|               macd|hour|day|day_of_week|     price_return_1h|    price_return_24h|            ma_6h|           ma_24h|           ma_72h|     price_lag_1h|    price_lag_24h|     volatility_6h|    volatility_24h|        momentum_1h|        momentum_6h|       momentum_24h|       momentum_72h|       volume_lag_1h|      volume_lag_24h|        volume_ma_6h|       volume_ma_24h|    volume_return_1h|            rsi_14|price_increase|trend_up_count_6h|\n+--------------------+-----------------+--------------------+--------------------+----------+-----------------+-----------------+-------------------+----+---+-----------+--------------------+--------------------+-----------------+-----------------+-----------------+-----------------+-----------------+------------------+------------------+-------------------+-------------------+-------------------+-------------------+--------------------+--------------------+--------------------+--------------------+--------------------+------------------+--------------+-----------------+\n|2025-02-08 07:04:...|96154.76117032336|1.907008432297584E12|5.491118294488288E10|2025020807|  96655.902544261|96958.25539395095|-302.35284968995256|   7|  8|          7|-0.00171912757455...|-0.01232110360373332|96532.30520985427|97139.64988527079|97148.23482015569|96320.34813679579|97354.27325739387|246.66163621081165| 921.4088221666929| -165.5869664724305| -377.5440395309124| -984.8887149474322| -993.4736498323327|5.260335179153944...|4.722488803650683...|5.385305192044298...|5.142412583190299E10|0.043872321339694965|30.478788869297873|             0|                2|\n|2025-02-08 08:03:...|95952.52432602612|1.902203504065374E12|5.423077797119762E10|2025020808| 96547.6905106864|96883.75679632688| -336.0662856404815|   8|  8|          7|-0.00210324316586...|-0.00954166887026...|96412.57650293875|97101.13458442428|97102.24595499685|96154.76117032336|96876.89154634211| 327.1508346821541| 951.6916259593035|-202.23684429723653|-460.05217691263533|-1148.6102583981556|-1149.7216289707285|5.491118294488288E10|4.313298854796554...|5.384557731542571E10|5.188653372453766E10|-0.01239100921151...| 30.47323206372718|             0|                1|\n|2025-02-08 09:04:...| 96223.7407871112|1.908554459881278...|4.887796171368644E10|2025020809|96497.85209167484|96834.86672157016|-337.01462989531865|   9|  8|          7|0.002826569316337512|-0.00559928000708...|96358.49693556449|97078.55885710583|97069.70872655664|95952.52432602612|96765.55824275386| 327.0629925433417| 966.3122715751276|  271.2164610850741|-134.75614845329255| -854.8180699946388| -845.9679394454433|5.423077797119762E10|4.589747176822037...|5.259274875958324...|5.201072080559875E10|-0.09870439735078296| 37.43142718711821|             1|                2|\n|2025-02-08 10:03:...|95905.61306579997|1.901957038104538...|4.983573521181784E10|2025020810| 96406.7383953864|96766.03311743903|-359.29472205262573|  10|  8|          7|-0.00330612506548...|-0.01259765277857...|96211.70590959855|97027.57551951644|97028.13388152963| 96223.7407871112| 97129.2131679456|292.43906624027045| 995.3657640061459| -318.1277213112189|-306.09284379857127|-1121.9624537164636|-1122.5208157296584|4.887796171368644E10|4.818705133553498E10|5.255457332659833E10|5.207941596711053...|0.019595201284001426|30.371539421650112|             0|                1|\n|2025-02-08 11:02:...| 96095.3786132481|1.903857164426553E12|3.377901228134095E10|2025020811|96358.83689044205|96716.35500601747| -357.5181155754253|  11|  8|          7|0.001978669875327657|-0.01275621789323...|96108.72768321742|96975.84000383377| 96995.9699067613|95905.61306579997|97337.03098963221|158.72211355110142|1010.7317614665649| 189.76554744812893|-13.349069969321135| -880.4613905856677| -900.5912935131928|4.983573521181784E10|4.609406321736542...|4.903967031907752E10|5.156628884477618...| -0.3221929577687712|40.105372724978515|             1|                2|\n|2025-02-08 12:03:...|96039.32910256689|1.903760064179510...|5.021410692278213...|2025020812|96309.68184615356| 96666.2049390952|  -356.523092941643|  12|  8|          7|-5.83269575395467...|-0.01312304192149...| 96061.8911775126|96922.62802826749|96964.08187995481| 96095.3786132481|97316.41651615771| 120.6934494282194|1025.5309105818872| -56.04951068121591| -22.56207494571572| -883.2989257005975| -924.7527773879265|3.377901228134095E10|4.526678001646561E10|4.864146284095132E10|5.177242746587271E10|  0.4865475196419434| 54.95042942559682|             0|                2|\n|2025-02-08 13:04:...| 96003.7579365969|1.902611374172639E12|4.851961281770902E10|2025020813|96262.61662929869|  96617.134790762|-354.51816146330384|  13|  8|          7|-3.70381241751484...|-0.01796577689506489|96036.72397189152|96849.44736003497|96933.10368823359|96039.32910256689|97760.09397417755|112.95030090837803|1025.8370305944231|-35.571165969988215|   -32.966035294623| -845.6894234380743| -929.3457516366907|5.021410692278213...|4.551900180633739...|  4.7576201153089E10|5.189745292467986E10|-0.03374537971329...|49.325319191494394|             0|                2|\n|2025-02-08 14:08:...|96087.21179559056|1.904605186076517...|4.756929107740405E10|2025020814|96235.63127026668|96577.88123556411| -342.2499652974366|  14|  8|          7|8.692770031853474E-4|-0.01958138418272...|96059.17188348561|96769.48489218102|96906.66956658849| 96003.7579365969|98006.31102408515| 106.0422933973585|1006.3509353088108|  83.45385899365647| 28.039912104941322|  -682.273096590463| -819.4577709979349|4.851961281770902E10| 4.44003191621062E10|4.646595333745673E10|5.202949342115060...|-0.01958634220506...|49.611204944736585|             1|                3|\n|2025-02-08 15:03:...|96218.75936833651|1.908475267913714E12|4.566549392915969E10|2025020815|96233.03559304666|96551.27961576947|-318.24402272280713|  15|  8|          7|0.001369043500042...|-0.02684913100281016|96058.34164702316| 96658.8738280974|96885.82380300509|96087.21179559056|98873.42490634344|104.50449317600597|  905.926629969081| 131.54757274595613| 160.41772131335165|-440.11445976089453| -667.0644346685731|4.756929107740405E10|4.461301288834079E10|4.593054204003561...|5.207334679785139E10|-0.04002155813393416| 42.90176375482401|             1|                3|\n|2025-02-08 16:03:...|96072.01389415626|1.904386214945366...|3.928387948327032E10|2025020816| 96208.2630239866|96515.77845120552|-307.51542721892474|  16|  8|          7|-0.00152512332463...|-0.03547982938953427|96086.07511841587|96511.62363892146| 96861.8882174507|96218.75936833651|99606.01843437883| 73.28299076340409| 659.8593647608468| -146.7454741802503|-14.061224259610754|-439.60974476519914| -789.8743232944398|4.566549392915969E10|5.210756108688309E10|4.417189941861103E10|5.153902673103418E10|-0.13974697078255832|37.662748286418434|             0|                3|\n|2025-02-08 17:03:...|95836.79513855922| 1.89842793586806E12|3.491877952204886E10|2025020817|96151.11411853624|96465.48339100949|-314.36927247325366|  17|  8|          7|-0.00244835874738...|-0.02288918842541...|96042.97787263441|96418.08143111739| 96832.5998437681|96072.01389415626|98081.80812585702|124.70902249131014| 582.1415291664913|-235.21875559704495|-206.18273407519155| -581.2862925581721| -995.8047052088805|3.928387948327032E10| 5.12174557456655E10|4.436186062539568E10|5.085991522171683E10|-0.11111682498365284|35.993800488042055|             0|                2|\n|2025-02-08 18:04:...|96168.08067753738|1.906187955165233...|3.187539029845273...|2025020818|96153.72435838258|96443.45356038192| -289.7292019993474|  18|  8|          7|0.003456767711182272|-0.01749471188425...|96064.43646846281|96346.73182091402|96814.14097803946|95836.79513855922|97880.47132241819|134.63749233828779|493.26680570901414| 331.28553897816164| 103.64420907456952|-178.65114337664272| -646.0603005020821|3.491877952204886E10|5.632607809733124...|4.130540785467411E10|4.984113656343021...| -0.0871562312673164|38.258229476538546|             1|                3|\n|2025-02-08 19:03:...|96355.02099871126|1.909239776753684E12|2.879481858608242...|2025020819|96184.69307227929|96436.90300025817|-252.20992797888175|  19|  8|          7|0.001943891568354...|-0.01089259932384...|96122.98031214852|96302.51869856323| 96801.7323299495|96168.08067753738|97416.13593512993| 173.6833134788933| 437.6671160867551|  186.9403211738827| 232.04068656274467|  52.50230014802946|-446.71133123824256|3.187539029845273...|5.744210678621046E10|3.801794214940301...|4.864749955509155E10|-0.09664420367959685| 43.47882784241595|             1|                4|\n|2025-02-08 20:04:...|96518.94915955854|1.913156543697522...|3.044254040346505...|2025020820|96236.11708570688|96442.98049353968| -206.8634078328032|  20|  8|          7|0.001701293395488...|-0.01267808210160...|96194.93653947652|96250.87752241701|96794.29066757079|96355.02099871126|97758.33738706807|234.63811128621694| 314.0990032555922|  163.9281608472811|  324.0126200820232| 268.07163714153285| -275.3415080122504|2.879481858608242...|5.356245445888723E10|3.516348370374651E10|4.768416980278229...|  0.0572228580797183|53.944137141130255|             1|                4|\n|2025-02-08 21:04:...|96645.85029878837|1.914563536752840...|2.694239809645456...|2025020821| 96299.1529646425|96458.00788652107| -158.8549218785629|  21|  8|          7|0.001314779536400078|-0.00258461414878...| 96266.1183612185|96240.44254234893|96790.48450426868|96518.94915955854|96896.28982042264|299.20888924717036|295.32379847142846|  126.9011392298271| 379.73193756987166| 405.40775643943925| -144.6342054803099|3.044254040346505...|5.254112398363478E10|3.204296773162899...|4.661755622414978E10|-0.11497536869860213| 59.90503209531939|             1|                4|\n|2025-02-08 22:04:...|96484.13257174032|1.912711321081463...|2.571436648709220...|2025020822|96327.61136573448|96459.94304838916|-132.33168265467975|  22|  8|          7|-0.00167330233577...|0.007700080297554369|96334.80480748252|96271.16165141918|96782.82570595547|96645.85029878837|95746.87395405429| 292.9766139050273|279.68136434215006|-161.71772704804607|  149.3277642578032|  212.9709203211387| -298.6931342151511|2.694239809645456...|5.698402890625164E10|2.978138223226597...|4.531465362335148E10|-0.04557989251609946| 60.90045137839344|             0|                4|\n|2025-02-08 23:03:...| 96501.1504913647|1.912576925841098...|2.310719869843224...|2025020823|96354.30969275451|96462.99545157254|-108.68575881802826|  23|  8|          7|1.763805008218965...| 0.00480019966161732|96445.53069961676|96290.37047812965|96775.95557877034|96484.13257174032|96040.13865031378|164.48246018823406|278.95504163092033| 17.017919624369824|  55.61979174792941|  210.7800132350385|-274.80508740564983|2.571436648709220...|5.381149931518562E10|2.781278542832987E10|4.403530776432008E10|-0.10138953996664382| 56.35016851579796|             1|                5|\n|2025-02-09 00:03:...| 96487.0543625433|1.912518704714430...|1.730933816857793...|2025020900| 96374.7319496451|96464.77759312594| -90.04564348084386|   0|  9|          1|-1.46072132297002...|0.003940957221583787|96498.69298045109|96306.15208987618|96769.07697838398| 96501.1504913647|96108.29568062663| 92.80164843128668| 278.9204302008425|-14.096128821387538|-11.638617907781736| 180.90227266712463| -282.0226158406731|2.310719869843224...|5.687998898040387E10|2.538511007335074E10|4.238653064716067E10|-0.25091144130109017| 65.46190010880828|             0|                4|\n|2025-02-09 01:04:...|96454.44602149501|1.912742717871671...|2.093250323186668...|2025020901|96386.99565300661|96464.01229152366| -77.01663851704507|   1|  9|          1|-3.37955607244195...|-0.00107717430608...|96515.26381758171|96301.81832786901|96761.75997938657| 96487.0543625433| 96558.4563096667| 67.42303603127979|275.61826640217276| -32.60834104829701| -60.81779608670331| 152.62769362599647|-307.31395789155795|1.730933816857793...|5.707772234022422E10|2.407472418098144...| 4.08804798509791E10| 0.20931852090485875| 60.41933838527501|             0|                3|\n|2025-02-09 02:03:...|96569.42155748123| 1.91414467800404E12|2.098166105998133E10|2025020902|96415.06117677194|96471.82038529828|  -56.7592085263459|   2|  9|          1|0.001192019038299126|-0.00104969555099...|96523.67588390216| 96297.5902024508|96757.38865161598|96454.44602149501|96670.89656751913| 71.02708050488637|   270.43994384841| 114.97553598621744| 45.745673579061986| 271.83135503043013|-187.96709413475764|2.093250323186668...|5.427562560130127E10|2.249791095706749...|3.949323132842411E10|0.002348397015403838| 64.87346190119258|             1|                3|\n+--------------------+-----------------+--------------------+--------------------+----------+-----------------+-----------------+-------------------+----+---+-----------+--------------------+--------------------+-----------------+-----------------+-----------------+-----------------+-----------------+------------------+------------------+-------------------+-------------------+-------------------+-------------------+--------------------+--------------------+--------------------+--------------------+--------------------+------------------+--------------+-----------------+\nonly showing top 20 rows\n"
     ]
    }
   ],
   "source": [
    "# Step 1: Extract Time Features\n",
    "df = df.withColumn('hour', F.hour(df['timestamp']))\n",
    "df = df.withColumn('day', F.dayofmonth(df['timestamp']))\n",
    "df = df.withColumn('day_of_week', F.dayofweek(df['timestamp']))  # 1 = Sunday, 7 = Saturday\n",
    "\n",
    "# Step 2: Calculate Price Returns\n",
    "df = df.withColumn('price_return_1h', (df['price'] - F.lag(df['price'], 1).over(Window.orderBy('timestamp'))) / F.lag(df['price'], 1).over(Window.orderBy('timestamp')))\n",
    "df = df.withColumn('price_return_24h', (df['price'] - F.lag(df['price'], 24).over(Window.orderBy('timestamp'))) / F.lag(df['price'], 24).over(Window.orderBy('timestamp')))\n",
    "\n",
    "# Step 3: Calculate Moving Averages\n",
    "df = df.withColumn('ma_6h', F.avg(df['price']).over(Window.orderBy('timestamp').rowsBetween(-5, 0)))  # 6 hours moving average\n",
    "df = df.withColumn('ma_24h', F.avg(df['price']).over(Window.orderBy('timestamp').rowsBetween(-23, 0)))  # 24 hours moving average\n",
    "df = df.withColumn('ma_72h', F.avg(df['price']).over(Window.orderBy('timestamp').rowsBetween(-71, 0)))  # 72 hours moving average\n",
    "\n",
    "# Step 4: Lag Features\n",
    "df = df.withColumn('price_lag_1h', F.lag(df['price'], 1).over(Window.orderBy('timestamp')))\n",
    "df = df.withColumn('price_lag_24h', F.lag(df['price'], 24).over(Window.orderBy('timestamp')))\n",
    "\n",
    "# Step 5: Calculate Volatility\n",
    "df = df.withColumn('volatility_6h', F.stddev(df['price']).over(Window.orderBy('timestamp').rowsBetween(-5, 0)))\n",
    "df = df.withColumn('volatility_24h', F.stddev(df['price']).over(Window.orderBy('timestamp').rowsBetween(-23, 0)))\n",
    "\n",
    "# Step 6: Momentum\n",
    "df = df.withColumn(\"momentum_1h\", df[\"price\"] - df[\"price_lag_1h\"])\n",
    "df = df.withColumn(\"momentum_6h\", df[\"price\"] - df[\"ma_6h\"])\n",
    "df = df.withColumn(\"momentum_24h\", df[\"price\"] - df[\"ma_24h\"])\n",
    "df = df.withColumn(\"momentum_72h\", df[\"price\"] - df[\"ma_72h\"])\n",
    "\n",
    "# Step 7: Lag and Moving Average\n",
    "df = df.withColumn(\"volume_lag_1h\", F.lag(\"volume\", 1).over(Window.orderBy(\"timestamp\")))\n",
    "df = df.withColumn(\"volume_lag_24h\", F.lag(\"volume\", 24).over(Window.orderBy(\"timestamp\")))\n",
    "df = df.withColumn(\"volume_ma_6h\", F.avg(\"volume\").over(Window.orderBy(\"timestamp\").rowsBetween(-5, 0)))\n",
    "df = df.withColumn(\"volume_ma_24h\", F.avg(\"volume\").over(Window.orderBy(\"timestamp\").rowsBetween(-23, 0)))\n",
    "\n",
    "# Step 8: Volume return\n",
    "df = df.withColumn(\"volume_return_1h\", \n",
    "    (df[\"volume\"] - df[\"volume_lag_1h\"]) / df[\"volume_lag_1h\"]\n",
    ")\n",
    "\n",
    "# Step 9: Calculate RSI\n",
    "# Price change\n",
    "df = df.withColumn(\"delta\", df[\"price\"] - F.lag(\"price\", 1).over(Window.orderBy(\"timestamp\")))\n",
    "# Gains and losses\n",
    "df = df.withColumn(\"gain\", F.when(df[\"delta\"] > 0, df[\"delta\"]).otherwise(0))\n",
    "df = df.withColumn(\"loss\", F.when(df[\"delta\"] < 0, -df[\"delta\"]).otherwise(0))\n",
    "# Average gain/loss over 14 periods\n",
    "avg_window = Window.orderBy(\"timestamp\").rowsBetween(-13, 0)\n",
    "df = df.withColumn(\"avg_gain\", F.avg(\"gain\").over(avg_window))\n",
    "df = df.withColumn(\"avg_loss\", F.avg(\"loss\").over(avg_window))\n",
    "# RS and RSI\n",
    "df = df.withColumn(\"rs\", df[\"avg_gain\"] / (df[\"avg_loss\"] + F.lit(1e-9)))  # Avoid div/0\n",
    "df = df.withColumn(\"rsi_14\", 100 - (100 / (1 + df[\"rs\"])))\n",
    "\n",
    "# Step 10: Hourly rolling trend \n",
    "# Price increase compared to previous hour\n",
    "df = df.withColumn(\"price_increase\", F.when(df[\"delta\"] > 0, 1).otherwise(0))\n",
    "# Sum over rolling 6 hours\n",
    "trend_window = Window.orderBy(\"timestamp\").rowsBetween(-5, 0)\n",
    "df = df.withColumn(\"trend_up_count_6h\", F.sum(\"price_increase\").over(trend_window))\n",
    "\n",
    "# Step 11: Clean up\n",
    "df = df.drop(\"delta\", \"gain\", \"loss\", \"avg_gain\", \"avg_loss\", \"rs\")\n",
    "df = df.dropna()\n",
    "\n",
    "# Step 12: Drop NaNs\n",
    "df = df.dropna()\n",
    "\n",
    "# Show the resulting DataFrame\n",
    "df.show()\n"
   ]
  }
 ],
 "metadata": {
  "application/vnd.databricks.v1+notebook": {
   "computePreferences": null,
   "dashboards": [],
   "environmentMetadata": {
    "base_environment": "",
    "environment_version": "2"
   },
   "inputWidgetPreferences": null,
   "language": "python",
   "notebookMetadata": {
    "pythonIndentUnit": 4
   },
   "notebookName": "02_feature_engineering",
   "widgets": {}
  },
  "language_info": {
   "name": "python"
  }
 },
 "nbformat": 4,
 "nbformat_minor": 0
}